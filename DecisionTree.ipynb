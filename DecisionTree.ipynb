{
 "cells": [
  {
   "cell_type": "markdown",
   "metadata": {},
   "source": [
    "# CSI 4142 Data Science\n",
    "## Assignment 3 - Predictive analysis - Classification\n",
    "\n",
    "### Identification\n",
    "Name: Eli Wynn\n",
    "Student Number: 300248135\n",
    "\n",
    "Name: Jack Snelgrove\n",
    "Student Number: 300247435\n",
    "\n",
    "Our datasets have been uploaded from the public repository:\n",
    "\n",
    "https://github.com/eli-wynn/Datasets\n",
    "\n",
    "### Imports"
   ]
  },
  {
   "cell_type": "code",
   "execution_count": null,
   "metadata": {},
   "outputs": [],
   "source": [
    "import numpy as np\n",
    "import matplotlib.pyplot as plt\n",
    "import pandas as pd\n",
    "import seaborn as sns"
   ]
  },
  {
   "cell_type": "markdown",
   "metadata": {},
   "source": [
    "### Dataset Overview\n",
    "This dataset contains detailed records of simulated road accident data, focusing on factors influencing survival outcomes. The dataset includes demographic, behavioral, and situational attributes, providing valuable insights into how various factors impact the survival probability during road accidents.\n",
    "\n",
    "#### Dataset Shape\n",
    "- Rows: 200\n",
    "- Columns: 6\n",
    "\n",
    "#### Features and Descriptions\n",
    "Below is a list of features included in the dataset along with their descriptions:\n",
    "\n",
    "1. `Age` (Numerical)\n",
    "- The age of the individual involved in the accident\n",
    "\n",
    "2. `Gender` (Categorical)\n",
    "- The gender of the individual involved in the accident \n",
    "\n",
    "3. `Speed of Impact` (Numerical)\n",
    "- The speed the car was moving on impact\n",
    "\n",
    "4. `Helmet used` (Categorical)\n",
    "- Whether a helmet was used or not\n",
    "\n",
    "5. `Seatbelt used` (Categorical)\n",
    "- Whether a helmet was used or not\n",
    "\n",
    "6. `Survived` (Numerical)\n",
    "- Whether the individual survived or not\n",
    "\n",
    "### Importing Dataset"
   ]
  },
  {
   "cell_type": "code",
   "execution_count": null,
   "metadata": {},
   "outputs": [],
   "source": [
    "crash  = \"https://raw.githubusercontent.com/eli-wynn/Datasets/refs/heads/main/accident.csv\"\n",
    "crashData = pd.read_csv(crash)"
   ]
  },
  {
   "cell_type": "markdown",
   "metadata": {},
   "source": [
    "#### Cleaning / Imputing Dataset"
   ]
  },
  {
   "cell_type": "code",
   "execution_count": null,
   "metadata": {},
   "outputs": [],
   "source": [
    "#Find columns with missing data\n",
    "missing_cols = crashData.columns[crashData.isnull().any()]\n",
    "\n",
    "#Impute missing Gender values with the mode\n",
    "crashData['Gender'].fillna(crashData['Gender'].mode()[0], inplace=True)\n",
    "\n",
    "#Remove rows with missing 'Speed of Impact' values as this metric is crucial to the target and shouldnt be imputated\n",
    "crashData.dropna(subset=['Speed_of_Impact'], inplace=True)\n",
    "\n",
    "#Checking for valid age\n",
    "crashData = crashData[(crashData['Age'] > 0) & (crashData['Age'] < 120)]\n",
    "\n",
    "#Checking for valid gender\n",
    "crashData = crashData[crashData['Gender'].isin(['Male', 'Female'])]\n",
    "\n",
    "#Check for valid yes/no values\n",
    "crashData = crashData[crashData['Helmet_Used'].isin(['Yes', 'No'])]\n",
    "crashData = crashData[crashData['Seatbelt_Used'].isin(['Yes', 'No'])]\n",
    "\n",
    "#Categorical values to numerical\n",
    "crashData['Gender'] = crashData['Gender'].map({'Male': 0, 'Female': 1})\n",
    "crashData['Helmet_Used'] = crashData['Helmet_Used'].map({'No': 0, 'Yes': 1})\n",
    "crashData['Seatbelt_Used'] = crashData['Seatbelt_Used'].map({'No': 0, 'Yes': 1})\n"
   ]
  }
 ],
 "metadata": {
  "kernelspec": {
   "display_name": "venv",
   "language": "python",
   "name": "python3"
  },
  "language_info": {
   "codemirror_mode": {
    "name": "ipython",
    "version": 3
   },
   "file_extension": ".py",
   "mimetype": "text/x-python",
   "name": "python",
   "nbconvert_exporter": "python",
   "pygments_lexer": "ipython3",
   "version": "3.12.4"
  }
 },
 "nbformat": 4,
 "nbformat_minor": 2
}
